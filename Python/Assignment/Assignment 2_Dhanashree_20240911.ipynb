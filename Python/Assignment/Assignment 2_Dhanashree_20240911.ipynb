{
 "cells": [
  {
   "cell_type": "markdown",
   "id": "0a0ebcd0-425b-46d7-b72e-47907df01a7c",
   "metadata": {},
   "source": [
    "#  Assignment - 2 : Slicing"
   ]
  },
  {
   "cell_type": "markdown",
   "id": "342c2b3e-e52f-4484-8290-b8893a3efd62",
   "metadata": {},
   "source": [
    "# Name: Dhanashree More                                    Date:11/09/2024"
   ]
  },
  {
   "cell_type": "markdown",
   "id": "1fc256fc-d3e8-4475-92b9-88a08236c0f2",
   "metadata": {},
   "source": [
    "# Part 1: Basic Slicing"
   ]
  },
  {
   "cell_type": "markdown",
   "id": "b5506d3d-2843-4664-962d-d3435a0f9b21",
   "metadata": {},
   "source": [
    "**1.Introduction to Slicing**\n",
    "\n",
    "**a. Given a string s = \"Hello, World!\", slice and print the following**"
   ]
  },
  {
   "cell_type": "markdown",
   "id": "1374dce3-2d02-451c-ad68-84125c1e5111",
   "metadata": {},
   "source": [
    "i.The entire string\n",
    "ii.The first 5 characters\n",
    "iii.The last 5 characters\n",
    "iv.The string excludes the first and last characters\n",
    "v.Every second character in the string"
   ]
  },
  {
   "cell_type": "code",
   "execution_count": 6,
   "id": "5ca48649-3d85-41cc-9488-4e673be4f4e1",
   "metadata": {},
   "outputs": [
    {
     "name": "stdout",
     "output_type": "stream",
     "text": [
      "Hello, World!\n"
     ]
    }
   ],
   "source": [
    "s = \"Hello, World!\"           #the entire string\n",
    "print(s[:])"
   ]
  },
  {
   "cell_type": "code",
   "execution_count": 8,
   "id": "bdca4423-11e6-4402-811c-81cad825e288",
   "metadata": {},
   "outputs": [
    {
     "name": "stdout",
     "output_type": "stream",
     "text": [
      "Hello\n"
     ]
    }
   ],
   "source": [
    "print(s[:5])                   #the first 5 charachters"
   ]
  },
  {
   "cell_type": "code",
   "execution_count": 16,
   "id": "8f6399d9-546e-4c95-8b02-add86889cd0e",
   "metadata": {},
   "outputs": [
    {
     "name": "stdout",
     "output_type": "stream",
     "text": [
      "orld!\n"
     ]
    }
   ],
   "source": [
    "print(s[-5:])                  #the last 5 characters"
   ]
  },
  {
   "cell_type": "code",
   "execution_count": 18,
   "id": "5b8c3ddb-8f2c-4e4c-bd4f-3d8d7fba00a3",
   "metadata": {},
   "outputs": [
    {
     "name": "stdout",
     "output_type": "stream",
     "text": [
      "ello, World\n"
     ]
    }
   ],
   "source": [
    "print(s[1:-1])                #the string excludes the first and last characters "
   ]
  },
  {
   "cell_type": "code",
   "execution_count": 20,
   "id": "5c893d25-d58f-4d0f-9659-e2e2fdfd205a",
   "metadata": {},
   "outputs": [
    {
     "name": "stdout",
     "output_type": "stream",
     "text": [
      "Hlo ol!\n"
     ]
    }
   ],
   "source": [
    "print(s[::2])                 #every second character in the string"
   ]
  },
  {
   "cell_type": "markdown",
   "id": "0b6208da-a2a6-4e05-b0d0-9794a8a0011b",
   "metadata": {},
   "source": [
    "# 2.Slicing with Negative Indices"
   ]
  },
  {
   "cell_type": "markdown",
   "id": "15fb4b91-a114-4fab-b183-076ddbc86c79",
   "metadata": {},
   "source": [
    "**a.Use negative indices to slice and print the following from the string**\r\n"
   ]
  },
  {
   "cell_type": "code",
   "execution_count": null,
   "id": "ef51a15f-6ba0-4e8d-b2a5-047d07b80035",
   "metadata": {},
   "outputs": [],
   "source": [
    "1.The last 3 characters.\n",
    "\n",
    "2.All characters except the last 2.\n",
    "\n",
    "3.The string reversed."
   ]
  },
  {
   "cell_type": "code",
   "execution_count": 36,
   "id": "0f98b890-085e-46aa-8188-83288b6060ef",
   "metadata": {},
   "outputs": [
    {
     "name": "stdout",
     "output_type": "stream",
     "text": [
      "ld!\n",
      "Hello, Worl\n",
      "!dlroW ,olleH\n"
     ]
    }
   ],
   "source": [
    "print(s[-3:])        #print the last 3 characters of string s =  \"Hello, World!\"\n",
    "\n",
    "print(s[:-2])        #print all the characters except the last 2 characters of string s = \"Hello, World!\"\n",
    "\n",
    "print(s[::-1])       #print the string reversed of string s = \"Hello, World!\""
   ]
  },
  {
   "cell_type": "markdown",
   "id": "250e099e-bdc0-4af0-a6a4-20492f2254df",
   "metadata": {},
   "source": [
    "# Part 2: Advanced Slicingng:"
   ]
  },
  {
   "cell_type": "markdown",
   "id": "98b6e4ff-9f45-4f48-9a0d-ba530cbbd0e4",
   "metadata": {},
   "source": [
    "**1.Slicing Substrings**\n",
    "\n",
    "**a. Given a string sentence = \"The quick brown fox jumps over the lazy dog\", slice and print the following**"
   ]
  },
  {
   "cell_type": "markdown",
   "id": "f2fc481e-3fc8-4538-b4e1-83fb9fb16137",
   "metadata": {},
   "source": [
    "i.The word \"quick\".\n",
    "\n",
    "ii.The word \"lazy\".\n",
    "\n",
    "iii.The words \"brown fox jumps\""
   ]
  },
  {
   "cell_type": "code",
   "execution_count": 49,
   "id": "8f6d95e9-dfbe-4092-83f5-fd06e758dc2e",
   "metadata": {},
   "outputs": [
    {
     "name": "stdout",
     "output_type": "stream",
     "text": [
      "quick\n",
      "lazy\n",
      "brown fox jump\n"
     ]
    }
   ],
   "source": [
    "string = \"The quick brown fox jumps over the lazy dog\"\n",
    "print(string[4:9])  #the word 'quick' from a string sentence = \"The quick brown fox jumps over the lazy dog\"\n",
    "\n",
    "print(string[-8:-4]) #the word 'lazy' from a string sentence = \"The quick brown fox jumps over the lazy dog\"\n",
    "\n",
    "print(string[10:24]) #the words 'brown fox jumps' from a string sentence = \"The quick brown fox jumps over the lazy dog\"\n"
   ]
  },
  {
   "cell_type": "markdown",
   "id": "a7f57c92-e4d1-4817-92db-5a01beb78e8c",
   "metadata": {},
   "source": [
    "# 2.Step Slicing \n"
   ]
  },
  {
   "cell_type": "markdown",
   "id": "eb02c05c-d06e-4aef-985c-13a5f77d4e6f",
   "metadata": {},
   "source": [
    "**a. Use step slicing to print the following from the string**"
   ]
  },
  {
   "cell_type": "markdown",
   "id": "19de05f5-ea04-45be-ab31-2b05bc2377ba",
   "metadata": {},
   "source": [
    "i.Every third character.\n",
    "\n",
    "ii.Every third character starting from the second character.\n",
    "\n",
    "iii.The string reversed, stepping by 2."
   ]
  },
  {
   "cell_type": "code",
   "execution_count": 28,
   "id": "a1de96ff-42dd-4ae7-91a3-556bf1fbcb44",
   "metadata": {},
   "outputs": [
    {
     "name": "stdout",
     "output_type": "stream",
     "text": [
      "Hello, World!\n",
      "Hl r!\n",
      "eoWl\n",
      "!lo olH\n"
     ]
    }
   ],
   "source": [
    "s = \"Hello, World!\"           #the entire string\n",
    "\n",
    "print(s)\n",
    "\n",
    "print(s[::3])\n",
    "\n",
    "print(s[1::3])\n",
    "\n",
    "print(s[::-2])"
   ]
  },
  {
   "cell_type": "markdown",
   "id": "73a035ad-9436-4958-bcc7-e1f06e664efd",
   "metadata": {},
   "source": [
    "# Part 3: Practical Application\n",
    "# 1.Extracting Information"
   ]
  },
  {
   "cell_type": "markdown",
   "id": "70d12f09-eae6-42ba-8fbd-fc1d48089fec",
   "metadata": {},
   "source": [
    "**a. Given a string data = \"2024-09-01,Sunny,25°C\", extract and print the following**"
   ]
  },
  {
   "cell_type": "markdown",
   "id": "1e905db6-e045-45d7-a2ee-8691ea5b9a4f",
   "metadata": {},
   "source": [
    "i.The date.\r\n",
    "\r\n",
    "ii.The weather condition.\r\n",
    "\r\n",
    "iii.The temperature"
   ]
  },
  {
   "cell_type": "code",
   "execution_count": 41,
   "id": "f5126e97-106f-4722-82de-024e4318b360",
   "metadata": {},
   "outputs": [
    {
     "name": "stdout",
     "output_type": "stream",
     "text": [
      "2024-09-01\n",
      "Sunny\n",
      "25°C\n"
     ]
    }
   ],
   "source": [
    "string = \"2024-09-01,Sunny,25°C\"\n",
    "\n",
    "print(string[:10])\n",
    "\n",
    "print(string[11:16])\n",
    "\n",
    "print(string[17::])"
   ]
  },
  {
   "cell_type": "markdown",
   "id": "e74b9f80-5c30-47ff-b0b5-bc378375f316",
   "metadata": {},
   "source": [
    "# 2. Reformatting Strings"
   ]
  },
  {
   "cell_type": "markdown",
   "id": "1449c94c-935b-4a5f-a8a0-bd235c11175d",
   "metadata": {},
   "source": [
    "i.Given a string phone_number = \"(123) 456-7890\", reformat it to ‘123-456-7890’"
   ]
  },
  {
   "cell_type": "code",
   "execution_count": 54,
   "id": "0daedb08-0fc9-4bd9-b24e-822d6748fa79",
   "metadata": {},
   "outputs": [
    {
     "name": "stdout",
     "output_type": "stream",
     "text": [
      "123-456-7890\n"
     ]
    }
   ],
   "source": [
    "phone_number = \"(123) 456-7890\"\n",
    "\n",
    "num1 = phone_number[1:4]\n",
    "num2 = phone_number[6:9]\n",
    "num3 = phone_number[10:]\n",
    "phone_number = (num1,num2,num3)\n",
    "print('-'.join(phone_number))"
   ]
  },
  {
   "cell_type": "markdown",
   "id": "e9159fb5-becb-48e5-b881-496b1f08fbaf",
   "metadata": {},
   "source": [
    "# Part 4: Questions based on string methods\n"
   ]
  },
  {
   "cell_type": "markdown",
   "id": "c605fd28-cd60-4588-a32b-a88ce08c5e6e",
   "metadata": {},
   "source": [
    "**1.Upper and Lower Case Conversion**"
   ]
  },
  {
   "cell_type": "markdown",
   "id": "1e7dc785-c560-4c7f-99db-c0adeb16e919",
   "metadata": {},
   "source": [
    "i.Given a string s = \"Hello, World!\", perform the following:\n",
    "\n",
    "b.Convert the string to all uppercase letters.\n",
    "\n",
    "c.Convert the string to all lowercase letters.\n",
    "\n",
    "d.Convert the string to title case.\n",
    "\n",
    "e.Capitalize the first letter of the string."
   ]
  },
  {
   "cell_type": "code",
   "execution_count": 58,
   "id": "a2e4e538-761b-4d60-b391-ada92d03ce90",
   "metadata": {},
   "outputs": [
    {
     "name": "stdout",
     "output_type": "stream",
     "text": [
      "HELLO, WORLD!\n",
      "hello, world!\n",
      "Hello, World!\n",
      "Hello, world!\n"
     ]
    }
   ],
   "source": [
    "s = \"Hello, World!\"\n",
    "print(s.upper())            # conversion of s = \"Hello, world!\" to all uppercase letters\n",
    "\n",
    "print(s.lower())            # conversion of s = \"Hello, world!\" to lower case\n",
    "\n",
    "print(s.title())           # conversion of s = \"Hello, world!\" to title case\n",
    "\n",
    "print(s.capitalize())       # capitalization of the first letter of s = \"Hello, world!\""
   ]
  },
  {
   "cell_type": "markdown",
   "id": "cd1da194-c39a-43c5-8fb9-4882591aebf9",
   "metadata": {},
   "source": [
    "**2.Finding Substrings**:"
   ]
  },
  {
   "cell_type": "markdown",
   "id": "169285a8-700c-46b5-8e21-afcb6c917664",
   "metadata": {},
   "source": [
    "**Given a string s = \"The quick brown fox jumps over the lazy dog\", perform the following**"
   ]
  },
  {
   "cell_type": "markdown",
   "id": "48b6a8a3-11e6-4948-93b7-f944336ac0b4",
   "metadata": {},
   "source": [
    "a. Find the position of the substring \"fox\".\n",
    "\n",
    "b. Check if the substring \"cat\" is in the string."
   ]
  },
  {
   "cell_type": "code",
   "execution_count": 76,
   "id": "facda488-bbfe-4f2e-b424-1a406631ab0b",
   "metadata": {},
   "outputs": [
    {
     "name": "stdout",
     "output_type": "stream",
     "text": [
      "16\n",
      "False\n"
     ]
    }
   ],
   "source": [
    "s = \"The quick brown fox jumps over the lazy dog\"\n",
    "print(s.find(\"fox\"))\n",
    "\n",
    "print(\"cat\" in s)"
   ]
  },
  {
   "cell_type": "markdown",
   "id": "5f6b440c-2a34-4f09-b070-6d16bed71917",
   "metadata": {},
   "source": [
    "# 3.Replacing Substrings\n"
   ]
  },
  {
   "cell_type": "markdown",
   "id": "0c1b401d-7fa2-4708-bf7d-e101149e0c69",
   "metadata": {},
   "source": [
    "**Given a string s = \"The quick brown fox jumps over the lazy dog\", perform the following**"
   ]
  },
  {
   "cell_type": "code",
   "execution_count": null,
   "id": "f94ebc2e-e3d0-4884-9bb5-25197ae1bb0f",
   "metadata": {},
   "outputs": [],
   "source": [
    "a.Replace \"fox\" with \"cat\".\n",
    "\n",
    "b.Replace all spaces with underscores.\n",
    "\n",
    "c.Split the string into a list of words.\n",
    "\n",
    "d.Split the string by the letter 'o'."
   ]
  },
  {
   "cell_type": "code",
   "execution_count": 88,
   "id": "cba59fc2-a853-4eaa-b752-bfef5df5457e",
   "metadata": {},
   "outputs": [
    {
     "name": "stdout",
     "output_type": "stream",
     "text": [
      "The quick brown cat jumps over the lazy dog\n",
      "The_quick_brown_fox_jumps_over_the_lazy_dog\n",
      "['The', 'quick', 'brown', 'fox', 'jumps', 'over', 'the', 'lazy', 'dog']\n",
      "['The quick br', 'wn f', 'x jumps ', 'ver the lazy d', 'g']\n"
     ]
    }
   ],
   "source": [
    "s = \"The quick brown fox jumps over the lazy dog\"\n",
    "print(s.replace(\"fox\",\"cat\"))\n",
    "\n",
    "print(s.replace(\" \",\"_\"))\n",
    "\n",
    "print(s.split())\n",
    "\n",
    "print(s.split(\"o\"))\n"
   ]
  },
  {
   "cell_type": "markdown",
   "id": "a356786d-c8b4-41ee-8a3b-05f786fa1fe0",
   "metadata": {},
   "source": [
    "# 4.Joining Strings"
   ]
  },
  {
   "cell_type": "markdown",
   "id": "12b7b634-4b71-4c26-ad52-74b559652fb8",
   "metadata": {},
   "source": [
    "**Given a list of words**"
   ]
  },
  {
   "cell_type": "code",
   "execution_count": null,
   "id": "48e0b726-73cf-4ccd-99ed-d95fc78fd9b8",
   "metadata": {},
   "outputs": [],
   "source": [
    "perform the following:\n",
    "\n",
    "a.Join the words with spaces.\n",
    "\n",
    "b.Join the words with hyphens"
   ]
  },
  {
   "cell_type": "code",
   "execution_count": 113,
   "id": "0960247d-944f-4bc3-a8ae-26633fee1dc3",
   "metadata": {},
   "outputs": [
    {
     "name": "stdout",
     "output_type": "stream",
     "text": [
      "The quick brown fox\n",
      "The-quick-brown-fox\n"
     ]
    }
   ],
   "source": [
    "words = [\"The\", \"quick\", \"brown\", \"fox\"]\n",
    "\n",
    "print(\" \".join(words))\n",
    "\n",
    "print(\"-\".join(words))"
   ]
  }
 ],
 "metadata": {
  "kernelspec": {
   "display_name": "Python 3 (ipykernel)",
   "language": "python",
   "name": "python3"
  },
  "language_info": {
   "codemirror_mode": {
    "name": "ipython",
    "version": 3
   },
   "file_extension": ".py",
   "mimetype": "text/x-python",
   "name": "python",
   "nbconvert_exporter": "python",
   "pygments_lexer": "ipython3",
   "version": "3.12.4"
  }
 },
 "nbformat": 4,
 "nbformat_minor": 5
}
